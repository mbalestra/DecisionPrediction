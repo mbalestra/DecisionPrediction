{
 "cells": [
  {
   "cell_type": "code",
   "execution_count": 1,
   "metadata": {
    "scrolled": true
   },
   "outputs": [],
   "source": [
    "import pandas as pd\n",
    "import seaborn as sns\n",
    "import matplotlib.pyplot as plt\n",
    "import numpy as np\n",
    "from scipy.stats import norm\n",
    "import math\n",
    "from operator import add\n",
    "import random\n",
    "from sklearn.model_selection import train_test_split\n",
    "from sklearn.dummy import DummyClassifier\n",
    "from sklearn.metrics import roc_auc_score,roc_curve, auc\n",
    "#ipynb.fs.full.AnalysisPartFunctions_GDTHETA\n",
    "from ipynb.fs.full.GenerateData import generatedata\n",
    "from ipynb.fs.full.AnalysisPartFunctions_Sigmoid import initialize_parameters,initialize_dicts,calc_prior_mean,calc_post_mean,calc_post_sd,calc_y,calc_L,calc_component_derivs,calc_gradients,update_parameters, predict_choice"
   ]
  },
  {
   "cell_type": "markdown",
   "metadata": {},
   "source": [
    "**(a) Generate data**"
   ]
  },
  {
   "cell_type": "code",
   "execution_count": 2,
   "metadata": {},
   "outputs": [],
   "source": [
    "data = pd.read_csv('data/people.csv')"
   ]
  },
  {
   "cell_type": "code",
   "execution_count": 3,
   "metadata": {},
   "outputs": [
    {
     "data": {
      "text/html": [
       "<div>\n",
       "<style scoped>\n",
       "    .dataframe tbody tr th:only-of-type {\n",
       "        vertical-align: middle;\n",
       "    }\n",
       "\n",
       "    .dataframe tbody tr th {\n",
       "        vertical-align: top;\n",
       "    }\n",
       "\n",
       "    .dataframe thead th {\n",
       "        text-align: right;\n",
       "    }\n",
       "</style>\n",
       "<table border=\"1\" class=\"dataframe\">\n",
       "  <thead>\n",
       "    <tr style=\"text-align: right;\">\n",
       "      <th></th>\n",
       "      <th>index</th>\n",
       "      <th>id</th>\n",
       "      <th>name</th>\n",
       "      <th>first</th>\n",
       "      <th>last</th>\n",
       "      <th>sex</th>\n",
       "      <th>race</th>\n",
       "      <th>dob</th>\n",
       "      <th>age</th>\n",
       "      <th>age_cat</th>\n",
       "      <th>...</th>\n",
       "      <th>r_offense_date</th>\n",
       "      <th>r_charge_desc</th>\n",
       "      <th>r_jail_in</th>\n",
       "      <th>r_jail_out</th>\n",
       "      <th>is_violent_recid</th>\n",
       "      <th>num_vr_cases</th>\n",
       "      <th>vr_case_number</th>\n",
       "      <th>vr_charge_degree</th>\n",
       "      <th>vr_offense_date</th>\n",
       "      <th>vr_charge_desc</th>\n",
       "    </tr>\n",
       "  </thead>\n",
       "  <tbody>\n",
       "    <tr>\n",
       "      <th>0</th>\n",
       "      <td>0</td>\n",
       "      <td>1</td>\n",
       "      <td>miguel hernandez</td>\n",
       "      <td>miguel</td>\n",
       "      <td>hernandez</td>\n",
       "      <td>Male</td>\n",
       "      <td>Other</td>\n",
       "      <td>1947-04-18 00:00:00.000000</td>\n",
       "      <td>69</td>\n",
       "      <td>Greater than 45</td>\n",
       "      <td>...</td>\n",
       "      <td>NaN</td>\n",
       "      <td>NaN</td>\n",
       "      <td>NaN</td>\n",
       "      <td>NaN</td>\n",
       "      <td>0</td>\n",
       "      <td>NaN</td>\n",
       "      <td>NaN</td>\n",
       "      <td>NaN</td>\n",
       "      <td>NaN</td>\n",
       "      <td>NaN</td>\n",
       "    </tr>\n",
       "    <tr>\n",
       "      <th>1</th>\n",
       "      <td>1</td>\n",
       "      <td>2</td>\n",
       "      <td>michael ryan</td>\n",
       "      <td>michael</td>\n",
       "      <td>ryan</td>\n",
       "      <td>Male</td>\n",
       "      <td>Caucasian</td>\n",
       "      <td>1985-02-06 00:00:00.000000</td>\n",
       "      <td>31</td>\n",
       "      <td>25 - 45</td>\n",
       "      <td>...</td>\n",
       "      <td>NaN</td>\n",
       "      <td>NaN</td>\n",
       "      <td>NaN</td>\n",
       "      <td>NaN</td>\n",
       "      <td>0</td>\n",
       "      <td>NaN</td>\n",
       "      <td>NaN</td>\n",
       "      <td>NaN</td>\n",
       "      <td>NaN</td>\n",
       "      <td>NaN</td>\n",
       "    </tr>\n",
       "    <tr>\n",
       "      <th>2</th>\n",
       "      <td>2</td>\n",
       "      <td>3</td>\n",
       "      <td>kevon dixon</td>\n",
       "      <td>kevon</td>\n",
       "      <td>dixon</td>\n",
       "      <td>Male</td>\n",
       "      <td>African-American</td>\n",
       "      <td>1982-01-22 00:00:00.000000</td>\n",
       "      <td>34</td>\n",
       "      <td>25 - 45</td>\n",
       "      <td>...</td>\n",
       "      <td>2013-07-05 00:00:00.000000</td>\n",
       "      <td>Felony Battery (Dom Strang)</td>\n",
       "      <td>NaN</td>\n",
       "      <td>NaN</td>\n",
       "      <td>1</td>\n",
       "      <td>NaN</td>\n",
       "      <td>13009779CF10A</td>\n",
       "      <td>(F3)</td>\n",
       "      <td>2013-07-05 00:00:00.000000</td>\n",
       "      <td>Felony Battery (Dom Strang)</td>\n",
       "    </tr>\n",
       "    <tr>\n",
       "      <th>3</th>\n",
       "      <td>3</td>\n",
       "      <td>4</td>\n",
       "      <td>ed philo</td>\n",
       "      <td>ed</td>\n",
       "      <td>philo</td>\n",
       "      <td>Male</td>\n",
       "      <td>African-American</td>\n",
       "      <td>1991-05-14 00:00:00.000000</td>\n",
       "      <td>24</td>\n",
       "      <td>Less than 25</td>\n",
       "      <td>...</td>\n",
       "      <td>2013-06-16 00:00:00.000000</td>\n",
       "      <td>Driving Under The Influence</td>\n",
       "      <td>2013-06-16 09:05:47.000000</td>\n",
       "      <td>2013-06-16 07:18:55.000000</td>\n",
       "      <td>0</td>\n",
       "      <td>NaN</td>\n",
       "      <td>NaN</td>\n",
       "      <td>NaN</td>\n",
       "      <td>NaN</td>\n",
       "      <td>NaN</td>\n",
       "    </tr>\n",
       "    <tr>\n",
       "      <th>4</th>\n",
       "      <td>4</td>\n",
       "      <td>5</td>\n",
       "      <td>marcu brown</td>\n",
       "      <td>marcu</td>\n",
       "      <td>brown</td>\n",
       "      <td>Male</td>\n",
       "      <td>African-American</td>\n",
       "      <td>1993-01-21 00:00:00.000000</td>\n",
       "      <td>23</td>\n",
       "      <td>Less than 25</td>\n",
       "      <td>...</td>\n",
       "      <td>NaN</td>\n",
       "      <td>NaN</td>\n",
       "      <td>NaN</td>\n",
       "      <td>NaN</td>\n",
       "      <td>0</td>\n",
       "      <td>NaN</td>\n",
       "      <td>NaN</td>\n",
       "      <td>NaN</td>\n",
       "      <td>NaN</td>\n",
       "      <td>NaN</td>\n",
       "    </tr>\n",
       "  </tbody>\n",
       "</table>\n",
       "<p>5 rows × 42 columns</p>\n",
       "</div>"
      ],
      "text/plain": [
       "   index  id              name    first       last   sex              race  \\\n",
       "0      0   1  miguel hernandez   miguel  hernandez  Male             Other   \n",
       "1      1   2      michael ryan  michael       ryan  Male         Caucasian   \n",
       "2      2   3       kevon dixon    kevon      dixon  Male  African-American   \n",
       "3      3   4          ed philo       ed      philo  Male  African-American   \n",
       "4      4   5       marcu brown    marcu      brown  Male  African-American   \n",
       "\n",
       "                          dob  age          age_cat  ...  \\\n",
       "0  1947-04-18 00:00:00.000000   69  Greater than 45  ...   \n",
       "1  1985-02-06 00:00:00.000000   31          25 - 45  ...   \n",
       "2  1982-01-22 00:00:00.000000   34          25 - 45  ...   \n",
       "3  1991-05-14 00:00:00.000000   24     Less than 25  ...   \n",
       "4  1993-01-21 00:00:00.000000   23     Less than 25  ...   \n",
       "\n",
       "               r_offense_date                r_charge_desc  \\\n",
       "0                         NaN                          NaN   \n",
       "1                         NaN                          NaN   \n",
       "2  2013-07-05 00:00:00.000000  Felony Battery (Dom Strang)   \n",
       "3  2013-06-16 00:00:00.000000  Driving Under The Influence   \n",
       "4                         NaN                          NaN   \n",
       "\n",
       "                    r_jail_in                  r_jail_out  is_violent_recid  \\\n",
       "0                         NaN                         NaN                 0   \n",
       "1                         NaN                         NaN                 0   \n",
       "2                         NaN                         NaN                 1   \n",
       "3  2013-06-16 09:05:47.000000  2013-06-16 07:18:55.000000                 0   \n",
       "4                         NaN                         NaN                 0   \n",
       "\n",
       "   num_vr_cases  vr_case_number  vr_charge_degree             vr_offense_date  \\\n",
       "0           NaN             NaN               NaN                         NaN   \n",
       "1           NaN             NaN               NaN                         NaN   \n",
       "2           NaN   13009779CF10A              (F3)  2013-07-05 00:00:00.000000   \n",
       "3           NaN             NaN               NaN                         NaN   \n",
       "4           NaN             NaN               NaN                         NaN   \n",
       "\n",
       "                vr_charge_desc  \n",
       "0                          NaN  \n",
       "1                          NaN  \n",
       "2  Felony Battery (Dom Strang)  \n",
       "3                          NaN  \n",
       "4                          NaN  \n",
       "\n",
       "[5 rows x 42 columns]"
      ]
     },
     "execution_count": 3,
     "metadata": {},
     "output_type": "execute_result"
    }
   ],
   "source": [
    "data.head()"
   ]
  },
  {
   "cell_type": "markdown",
   "metadata": {},
   "source": [
    "**(b) Create dummy variables for categorical variables**"
   ]
  },
  {
   "cell_type": "code",
   "execution_count": 4,
   "metadata": {},
   "outputs": [],
   "source": [
    "sex_dummies = pd.get_dummies(data['sex'])\n",
    "race_dummies = pd.get_dummies(data['race'])\n",
    "age_dummies = pd.get_dummies(data['age_cat'])\n",
    "\n",
    "data['sex_1_male'] = sex_dummies['Male']\n",
    "data['African_American']=race_dummies['African-American']\n",
    "data['Asian']=race_dummies['Asian']\n",
    "data['Caucasian']=race_dummies['Caucasian']\n",
    "data['Hispanic'] = race_dummies['Hispanic']\n",
    "data['Native_American']=race_dummies['Native American']\n",
    "data['race_Other']=race_dummies['Other']\n",
    "data['Greater_45']=age_dummies['Greater than 45']\n",
    "data['25_45']=age_dummies['25 - 45']\n",
    "data['Less_25']=age_dummies['Less than 25']"
   ]
  },
  {
   "cell_type": "code",
   "execution_count": 5,
   "metadata": {},
   "outputs": [
    {
     "data": {
      "text/plain": [
       "Index(['index', 'id', 'name', 'first', 'last', 'sex', 'race', 'dob', 'age',\n",
       "       'age_cat', 'juv_fel_count', 'juv_misd_count', 'juv_other_count',\n",
       "       'compas_screening_date', 'decile_score', 'score_text', 'violent_recid',\n",
       "       'priors_count', 'days_b_screening_arrest', 'c_jail_in', 'c_jail_out',\n",
       "       'c_case_number', 'c_days_from_compas', 'c_arrest_date',\n",
       "       'c_offense_date', 'c_charge_degree', 'c_charge_desc', 'is_recid',\n",
       "       'num_r_cases', 'r_case_number', 'r_charge_degree', 'r_days_from_arrest',\n",
       "       'r_offense_date', 'r_charge_desc', 'r_jail_in', 'r_jail_out',\n",
       "       'is_violent_recid', 'num_vr_cases', 'vr_case_number',\n",
       "       'vr_charge_degree', 'vr_offense_date', 'vr_charge_desc', 'sex_1_male',\n",
       "       'African_American', 'Asian', 'Caucasian', 'Hispanic', 'Native_American',\n",
       "       'race_Other', 'Greater_45', '25_45', 'Less_25'],\n",
       "      dtype='object')"
      ]
     },
     "execution_count": 5,
     "metadata": {},
     "output_type": "execute_result"
    }
   ],
   "source": [
    "data.columns"
   ]
  },
  {
   "cell_type": "markdown",
   "metadata": {},
   "source": [
    "**(c) Split data into training & test**"
   ]
  },
  {
   "cell_type": "code",
   "execution_count": 6,
   "metadata": {},
   "outputs": [
    {
     "name": "stdout",
     "output_type": "stream",
     "text": [
      "[0 1] [ 1697 10060]\n"
     ]
    }
   ],
   "source": [
    "# select out relevant data & generate the train and test data\n",
    "\n",
    "# train / test\n",
    "features = ['Less_25','25_45','Greater_45','sex_1_male','African_American','Caucasian','is_violent_recid','juv_fel_count']\n",
    "X = data[features]\n",
    "mu_ra = data['decile_score'].tolist()\n",
    "\n",
    "# need to calculate the 'release' value (i.e. 'y')\n",
    "synth_params = {'B': np.array([[0.57140259],\n",
    "                     [0.42888905],\n",
    "                     [0.5780913 ],\n",
    "                     [0.20609823],\n",
    "                     [0.81332125],\n",
    "                     [0.82358887],\n",
    "                     [0.65347253],\n",
    "                     [0.16022956]]),\n",
    "                'b': 5.206693596399246,\n",
    "                'q': 0.32777281162209315,\n",
    "                'sd_prior': 2.4999667668640035,\n",
    "                'tau': 6,\n",
    "                'Theta': 1,\n",
    "                'scale': 25}\n",
    "\n",
    "synth_mu_prior = calc_prior_mean(X, synth_params)\n",
    "synth_mu_post = calc_post_mean(synth_mu_prior, mu_ra, synth_params)\n",
    "synth_sd_post =calc_post_sd(synth_mu_prior, mu_ra, synth_params)\n",
    "synth_y_pred = calc_y(synth_mu_post, synth_sd_post, synth_params)\n",
    "y = [1 if syP>0.5 else 0 for syP in synth_y_pred]\n",
    "values, counts = np.unique(y, return_counts=True)\n",
    "print(values,counts)"
   ]
  },
  {
   "cell_type": "markdown",
   "metadata": {},
   "source": [
    "Create a list of indices to pull out 70% of observations as a train set"
   ]
  },
  {
   "cell_type": "code",
   "execution_count": 7,
   "metadata": {},
   "outputs": [
    {
     "name": "stdout",
     "output_type": "stream",
     "text": [
      "3528 8229\n"
     ]
    }
   ],
   "source": [
    "train_index = random.sample(range(len(X)),math.floor(len(X)*0.7))\n",
    "test_index = [i for i in range(len(X)) if i not in train_index ]\n",
    "print(len(test_index),len(train_index))"
   ]
  },
  {
   "cell_type": "code",
   "execution_count": 8,
   "metadata": {},
   "outputs": [],
   "source": [
    "X_train = data.loc[train_index,features]\n",
    "mu_ra_train = data.loc[train_index,'decile_score'].tolist()\n",
    "y_train = [y[i] for i in train_index]\n",
    "\n",
    "X_test = data.loc[test_index,features]\n",
    "mu_ra_test = data.loc[test_index,'decile_score'].tolist()\n",
    "y_test = [y[i] for i in test_index]"
   ]
  },
  {
   "cell_type": "markdown",
   "metadata": {},
   "source": [
    "Define variables for analysis without penalties"
   ]
  },
  {
   "cell_type": "code",
   "execution_count": 9,
   "metadata": {},
   "outputs": [],
   "source": [
    "initial_parameters = initialize_parameters(X_train,1,10)\n",
    "derivatives,grads = initialize_dicts()"
   ]
  },
  {
   "cell_type": "code",
   "execution_count": 10,
   "metadata": {},
   "outputs": [
    {
     "data": {
      "text/plain": [
       "{'B': array([[0.95820938],\n",
       "        [0.14036859],\n",
       "        [0.02361615],\n",
       "        [0.99863065],\n",
       "        [0.18425365],\n",
       "        [0.12059206],\n",
       "        [0.65142124],\n",
       "        [0.34564484]]),\n",
       " 'b': 8.89550939795803,\n",
       " 'q': 0.23174148998607602,\n",
       " 'sd_prior': 9.594850618366994,\n",
       " 'tau': 6,\n",
       " 'Theta': 10,\n",
       " 'scale': 25}"
      ]
     },
     "execution_count": 10,
     "metadata": {},
     "output_type": "execute_result"
    }
   ],
   "source": [
    "initial_parameters"
   ]
  },
  {
   "cell_type": "code",
   "execution_count": 11,
   "metadata": {},
   "outputs": [],
   "source": [
    "parameters = {\n",
    "    \"B\": initial_parameters['B'],\n",
    "    \"b\": initial_parameters['b'],\n",
    "    \"q\" : initial_parameters['q'],\n",
    "    \"sd_prior\" : initial_parameters['sd_prior'],\n",
    "    \"tau\" : initial_parameters['tau'],\n",
    "    \"Theta\" : initial_parameters['Theta'],\n",
    "    \"scale\" : initial_parameters['scale']\n",
    "}"
   ]
  },
  {
   "cell_type": "code",
   "execution_count": null,
   "metadata": {},
   "outputs": [],
   "source": [
    "num_int = 10\n",
    "\n",
    "prev_L = 0 \n",
    "loss = []\n",
    "\n",
    "init_lr = 0.001\n",
    "learning_rate = []\n",
    "\n",
    "j = 0\n",
    "    \n",
    "lr=init_lr # remove when want dynamic lr\n",
    "\n",
    "while j < num_int:\n",
    "    \n",
    "    mu_prior = calc_prior_mean(X_train, parameters)\n",
    "    mu_post = calc_post_mean(mu_prior, mu_ra_train, parameters)\n",
    "    sd_post =calc_post_sd(mu_prior, mu_ra_train, parameters)\n",
    "    y_pred = calc_y(mu_post, sd_post, parameters)\n",
    "    L = calc_L(y_pred, y_train)\n",
    "    loss.append(L)\n",
    "        \n",
    "    # set learning rate: if loss is negative double learning rate; else halve learning rate\n",
    "    if j==0:\n",
    "        lr=init_lr\n",
    "    elif prev_L>L and lr<=0.5:\n",
    "        lr = lr*2\n",
    "    elif prev_L>L and lr>0.5:\n",
    "        lr = 1\n",
    "    elif prev_L<L:\n",
    "        lr = lr/2\n",
    "\n",
    "    learning_rate.append(lr)\n",
    "        \n",
    "    derivatives = calc_component_derivs(X_train,parameters, derivatives, mu_prior, mu_ra_train, mu_post, sd_post, y_pred, y_train)\n",
    "    grads = calc_gradients(X_train,grads,derivatives)\n",
    "    parameters = update_parameters(parameters, grads, lr)\n",
    "    prev_L = L\n",
    "\n",
    "        \n",
    "    # print loss so we can track the progress of the model\n",
    "    if j%1==0:\n",
    "        print(\"loss: \", L)\n",
    "        #print(\"theta: \"+str(parameters['Theta']))\n",
    "    j+=1\n",
    "    "
   ]
  },
  {
   "cell_type": "code",
   "execution_count": null,
   "metadata": {},
   "outputs": [],
   "source": [
    "parameters"
   ]
  },
  {
   "cell_type": "code",
   "execution_count": null,
   "metadata": {},
   "outputs": [],
   "source": [
    "initial_parameters"
   ]
  },
  {
   "cell_type": "code",
   "execution_count": null,
   "metadata": {},
   "outputs": [],
   "source": [
    "synth_params"
   ]
  },
  {
   "cell_type": "code",
   "execution_count": null,
   "metadata": {},
   "outputs": [],
   "source": [
    "plt.plot(learning_rate)\n",
    "plt.xlabel('Iteration')\n",
    "plt.ylabel('Learning Rate')\n",
    "plt.legend(loc=\"lower left\")"
   ]
  },
  {
   "cell_type": "code",
   "execution_count": null,
   "metadata": {
    "scrolled": true
   },
   "outputs": [],
   "source": [
    "plt.plot(loss)\n",
    "plt.xlabel('Iteration')\n",
    "plt.ylabel('Loss')\n",
    "plt.legend(loc=\"upper right\")"
   ]
  },
  {
   "cell_type": "code",
   "execution_count": null,
   "metadata": {},
   "outputs": [],
   "source": [
    "from sklearn.metrics import confusion_matrix\n",
    "\n",
    "y_pred_convert = pd.Series([1 if y>0.5 else 0 for y in y_pred],name=\"Predicted\")\n",
    "y_actual = pd.Series(y_test,name=\"Actual\")\n",
    "confusion = pd.crosstab(y_actual, y_pred_convert,margins=True)\n",
    "confusion"
   ]
  },
  {
   "cell_type": "code",
   "execution_count": null,
   "metadata": {},
   "outputs": [],
   "source": [
    "y_pred = predict_choice(X_test,mu_ra_test,parameters)\n",
    "fpr, tpr, _ = roc_curve(y_test, y_pred)\n",
    "roc_auc = roc_auc_score(y_test, y_pred)\n",
    "plt.plot(fpr, tpr, label='ROC curve (area = %0.2f)' % (roc_auc))\n",
    "plt.plot([0, 1], [0, 1], color='navy', linestyle='--')\n",
    "plt.xlim([0.0, 1.0])\n",
    "plt.ylim([0.0, 1.05])\n",
    "plt.xlabel('False Positive Rate')\n",
    "plt.ylabel('True Positive Rate')\n",
    "plt.title('ROC')\n",
    "plt.legend(loc=\"upper left\")"
   ]
  },
  {
   "cell_type": "code",
   "execution_count": null,
   "metadata": {},
   "outputs": [],
   "source": [
    "plt.hist(mu_prior,bins=20,alpha=0.4,color='m')\n",
    "plt.hist(mu_post,bins=20,alpha=0.5,color='g')"
   ]
  },
  {
   "cell_type": "code",
   "execution_count": null,
   "metadata": {},
   "outputs": [],
   "source": []
  },
  {
   "cell_type": "code",
   "execution_count": null,
   "metadata": {},
   "outputs": [],
   "source": [
    "x = np.linspace(0, 10, 100)\n",
    "idx = 1000\n",
    "\n",
    "y_prior = norm.pdf(x,mu_prior[idx],parameters['sd_prior'])\n",
    "y_post = norm.pdf(x,mu_post[idx],sd_post[idx]) \n",
    "\n",
    "plt.plot(x,y_prior, color='m')\n",
    "plt.axvline(x=mu_prior[idx], ymin=0, ymax=1,linewidth=1,linestyle='--',color='m')\n",
    "plt.plot(x,y_post,color='g')\n",
    "plt.axvline(x=mu_post[idx], ymin=0, ymax=1,linewidth=1,linestyle='--',color='g')\n",
    "plt.axvline(x=mu_ra[idx], ymin=0, ymax=1,color='r')\n",
    "plt.axvline(x=parameters['tau'], ymin=0, ymax=1,color='black')\n",
    "\n",
    "print('Theta: ', parameters['Theta'])\n",
    "print('SD prior: ', parameters['sd_prior'])\n",
    "print('SD posterior: ', sd_post[idx])"
   ]
  },
  {
   "cell_type": "raw",
   "metadata": {},
   "source": [
    "from sklearn.linear_model import LogisticRegression\n",
    "from sklearn import metrics\n",
    "\n",
    "# test against logistic regression\n",
    "logreg = LogisticRegression()\n",
    "logreg.fit(X_train, y_train)\n",
    "print(logreg.coef_)"
   ]
  },
  {
   "cell_type": "code",
   "execution_count": null,
   "metadata": {},
   "outputs": [],
   "source": [
    "y_pred_logit = pd.Series(logreg.predict(X_test),name=\"Predicted\")\n",
    "y_actual = pd.Series(y_test,name=\"Actual\")\n",
    "confusion_logit = pd.crosstab(y_actual, y_pred_logit,margins=True)\n",
    "confusion_logit"
   ]
  },
  {
   "cell_type": "code",
   "execution_count": null,
   "metadata": {},
   "outputs": [],
   "source": [
    "fpr, tpr, _ = roc_curve(y_test, y_pred_logit)\n",
    "roc_auc = roc_auc_score(y_test, y_pred_logit)\n",
    "plt.plot(fpr, tpr, label='ROC curve (area = %0.2f)' % (roc_auc))\n",
    "plt.plot([0, 1], [0, 1], color='navy', linestyle='--')\n",
    "plt.xlim([0.0, 1.0])\n",
    "plt.ylim([0.0, 1.05])\n",
    "plt.xlabel('False Positive Rate')\n",
    "plt.ylabel('True Positive Rate')\n",
    "plt.title('ROC')\n",
    "plt.legend(loc=\"upper left\")"
   ]
  },
  {
   "cell_type": "code",
   "execution_count": null,
   "metadata": {},
   "outputs": [],
   "source": [
    "mu_prior_init = calc_prior_mean(X_train, initial_parameters)\n",
    "mu_post_init = calc_post_mean(mu_prior_init, mu_ra_train, initial_parameters)\n",
    "sd_post_init =calc_post_sd(mu_prior_init, mu_ra_train, initial_parameters)\n",
    "y_pred_init = calc_y(mu_post_init, sd_post_init, parameters)\n",
    "\n",
    "y_pred_init_convert = pd.Series([1 if y>0.5 else 0 for y in y_pred_init],name=\"Predicted\")\n",
    "y_actual = pd.Series(y_test,name=\"Actual\")\n",
    "confusion = pd.crosstab(y_actual, y_pred_init_convert,margins=True)\n",
    "confusion"
   ]
  },
  {
   "cell_type": "code",
   "execution_count": null,
   "metadata": {},
   "outputs": [],
   "source": [
    "y_pred = predict_choice(X_test,mu_ra_test,initial_parameters)\n",
    "fpr, tpr, _ = roc_curve(y_test, y_pred)\n",
    "roc_auc = roc_auc_score(y_test, y_pred)\n",
    "plt.plot(fpr, tpr, label='ROC curve (area = %0.2f)' % (roc_auc))\n",
    "plt.plot([0, 1], [0, 1], color='navy', linestyle='--')\n",
    "plt.xlim([0.0, 1.0])\n",
    "plt.ylim([0.0, 1.05])\n",
    "plt.xlabel('False Positive Rate')\n",
    "plt.ylabel('True Positive Rate')\n",
    "plt.title('ROC')\n",
    "plt.legend(loc=\"upper left\")"
   ]
  },
  {
   "cell_type": "code",
   "execution_count": null,
   "metadata": {},
   "outputs": [],
   "source": []
  },
  {
   "cell_type": "code",
   "execution_count": null,
   "metadata": {},
   "outputs": [],
   "source": []
  },
  {
   "cell_type": "code",
   "execution_count": null,
   "metadata": {},
   "outputs": [],
   "source": []
  },
  {
   "cell_type": "code",
   "execution_count": null,
   "metadata": {},
   "outputs": [],
   "source": []
  },
  {
   "cell_type": "code",
   "execution_count": null,
   "metadata": {},
   "outputs": [],
   "source": []
  }
 ],
 "metadata": {
  "kernelspec": {
   "display_name": "Python 3",
   "language": "python",
   "name": "python3"
  },
  "language_info": {
   "codemirror_mode": {
    "name": "ipython",
    "version": 3
   },
   "file_extension": ".py",
   "mimetype": "text/x-python",
   "name": "python",
   "nbconvert_exporter": "python",
   "pygments_lexer": "ipython3",
   "version": "3.7.6"
  }
 },
 "nbformat": 4,
 "nbformat_minor": 4
}

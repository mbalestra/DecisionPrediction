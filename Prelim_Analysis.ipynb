{
 "cells": [
  {
   "cell_type": "code",
   "execution_count": 11,
   "metadata": {},
   "outputs": [],
   "source": [
    "import pandas as pd\n",
    "import seaborn as sns\n",
    "import matplotlib.pyplot as plt\n",
    "from sklearn.model_selection import train_test_split\n",
    "from sklearn.dummy import DummyClassifier\n",
    "from sklearn.metrics import accuracy_score,recall_score,precision_score,f1_score\n",
    "from sklearn.metrics import confusion_matrix\n",
    "from sklearn.metrics import plot_confusion_matrix\n",
    "from sklearn.linear_model import LogisticRegression\n",
    "import random\n",
    "from itertools import chain\n",
    "from collections import Counter\n",
    "import numpy as np\n",
    "import scipy\n",
    "\n",
    "from ipynb.fs.full.GenerateData import generatedata\n",
    "from ipynb.fs.full.Logistic_Functions import sigmoid, initialize_params_w_zeros, propagate, optimize, predict"
   ]
  },
  {
   "cell_type": "code",
   "execution_count": 2,
   "metadata": {},
   "outputs": [],
   "source": [
    "data = generatedata()"
   ]
  },
  {
   "cell_type": "code",
   "execution_count": 3,
   "metadata": {},
   "outputs": [
    {
     "data": {
      "text/plain": [
       "1    6956\n",
       "0    4786\n",
       "Name: release, dtype: int64"
      ]
     },
     "execution_count": 3,
     "metadata": {},
     "output_type": "execute_result"
    }
   ],
   "source": [
    "# check how many released/remanded\n",
    "data.release.value_counts()"
   ]
  },
  {
   "cell_type": "code",
   "execution_count": 4,
   "metadata": {},
   "outputs": [
    {
     "data": {
      "text/plain": [
       "<BarContainer object of 10 artists>"
      ]
     },
     "execution_count": 4,
     "metadata": {},
     "output_type": "execute_result"
    },
    {
     "data": {
      "image/png": "[encoded data removed]",
      "text/plain": [
       "<Figure size 432x288 with 1 Axes>"
      ]
     },
     "metadata": {
      "needs_background": "light"
     },
     "output_type": "display_data"
    }
   ],
   "source": [
    "# plot the districution of decile scores\n",
    "\n",
    "decile_count = Counter(data.decile_score)\n",
    "\n",
    "dc_lists = sorted(decile_count.items()) # sorted by key, return a list of tuples\n",
    "\n",
    "x, y = zip(*dc_lists) # unpack a list of pairs into two tuples\n",
    "\n",
    "plt.bar(x, y)\n"
   ]
  },
  {
   "cell_type": "code",
   "execution_count": 5,
   "metadata": {},
   "outputs": [
    {
     "data": {
      "text/html": [
       "<div>\n",
       "<style scoped>\n",
       "    .dataframe tbody tr th:only-of-type {\n",
       "        vertical-align: middle;\n",
       "    }\n",
       "\n",
       "    .dataframe tbody tr th {\n",
       "        vertical-align: top;\n",
       "    }\n",
       "\n",
       "    .dataframe thead th {\n",
       "        text-align: right;\n",
       "    }\n",
       "</style>\n",
       "<table border=\"1\" class=\"dataframe\">\n",
       "  <thead>\n",
       "    <tr style=\"text-align: right;\">\n",
       "      <th>release</th>\n",
       "      <th>0</th>\n",
       "      <th>1</th>\n",
       "    </tr>\n",
       "    <tr>\n",
       "      <th>decile_score</th>\n",
       "      <th></th>\n",
       "      <th></th>\n",
       "    </tr>\n",
       "  </thead>\n",
       "  <tbody>\n",
       "    <tr>\n",
       "      <th>1</th>\n",
       "      <td>1287</td>\n",
       "      <td>1290</td>\n",
       "    </tr>\n",
       "    <tr>\n",
       "      <th>2</th>\n",
       "      <td>155</td>\n",
       "      <td>1417</td>\n",
       "    </tr>\n",
       "    <tr>\n",
       "      <th>3</th>\n",
       "      <td>613</td>\n",
       "      <td>646</td>\n",
       "    </tr>\n",
       "    <tr>\n",
       "      <th>4</th>\n",
       "      <td>1082</td>\n",
       "      <td>117</td>\n",
       "    </tr>\n",
       "    <tr>\n",
       "      <th>5</th>\n",
       "      <td>99</td>\n",
       "      <td>935</td>\n",
       "    </tr>\n",
       "    <tr>\n",
       "      <th>6</th>\n",
       "      <td>96</td>\n",
       "      <td>897</td>\n",
       "    </tr>\n",
       "    <tr>\n",
       "      <th>7</th>\n",
       "      <td>456</td>\n",
       "      <td>444</td>\n",
       "    </tr>\n",
       "    <tr>\n",
       "      <th>8</th>\n",
       "      <td>382</td>\n",
       "      <td>414</td>\n",
       "    </tr>\n",
       "    <tr>\n",
       "      <th>9</th>\n",
       "      <td>79</td>\n",
       "      <td>723</td>\n",
       "    </tr>\n",
       "    <tr>\n",
       "      <th>10</th>\n",
       "      <td>537</td>\n",
       "      <td>73</td>\n",
       "    </tr>\n",
       "  </tbody>\n",
       "</table>\n",
       "</div>"
      ],
      "text/plain": [
       "release          0     1\n",
       "decile_score            \n",
       "1             1287  1290\n",
       "2              155  1417\n",
       "3              613   646\n",
       "4             1082   117\n",
       "5               99   935\n",
       "6               96   897\n",
       "7              456   444\n",
       "8              382   414\n",
       "9               79   723\n",
       "10             537    73"
      ]
     },
     "execution_count": 5,
     "metadata": {},
     "output_type": "execute_result"
    }
   ],
   "source": [
    "# check how many released/remanded by decile_score\n",
    "pd.crosstab(data.decile_score, data.release)"
   ]
  },
  {
   "cell_type": "code",
   "execution_count": 6,
   "metadata": {},
   "outputs": [],
   "source": [
    "# select out relevant data & generate the train and test data\n",
    "# for now, we're only going off of the risk assessment score\n",
    "data = data[['release','decile_score']]\n",
    "\n",
    "# train / test\n",
    "X = data.drop(['release'],axis=1)\n",
    "y = data['release']\n",
    "class_names = data.release.unique()\n",
    "\n",
    "X_train, X_test, y_train, y_test = train_test_split(X, y, random_state=2)"
   ]
  },
  {
   "cell_type": "code",
   "execution_count": null,
   "metadata": {},
   "outputs": [],
   "source": [
    "# Start with a really basic baseline model\n",
    "# Going to use dummy classifier - this will only predict the majority case (i.e. release)\n",
    "\n",
    "classify = DummyClassifier(strategy= 'most_frequent').fit(X_train,y_train)\n",
    "y_pred = classify.predict(X_test)\n",
    "\n",
    "#Distribution of y test\n",
    "print('y actual : \\n' +  str(y_test.value_counts()))\n",
    "print()\n",
    "\n",
    "#Distribution of y predicted\n",
    "print('y predicted : \\n' + str(pd.Series(y_pred).value_counts()))\n",
    "print()\n",
    "\n",
    "# Model Evaluation metrics \n",
    "print('Accuracy Score : ' + str(accuracy_score(y_test,y_pred)))\n",
    "print()\n",
    "print('Precision Score : ' + str(precision_score(y_test,y_pred)))\n",
    "print()\n",
    "print('Recall Score : ' + str(recall_score(y_test,y_pred)))\n",
    "print()\n",
    "print('F1 Score : ' + str(f1_score(y_test,y_pred)))\n",
    "print()\n",
    "\n",
    "#Dummy Classifier Confusion matrix\n",
    "print('Confusion Matrix : \\n' + str(confusion_matrix(y_test,y_pred)))\n",
    "print()\n",
    "\n",
    "titles_options = [(\"Confusion matrix, without normalization\", None),\n",
    "                  (\"Normalized confusion matrix\", 'true')]\n",
    "for title, normalize in titles_options:\n",
    "    disp = plot_confusion_matrix(classify, X_test, y_test,\n",
    "                                 display_labels=class_names,\n",
    "                                 cmap=plt.cm.Blues,\n",
    "                                 normalize=normalize)\n",
    "    disp.ax_.set_title(title)\n",
    "\n",
    "    print(title)\n",
    "    print(disp.confusion_matrix)\n"
   ]
  },
  {
   "cell_type": "code",
   "execution_count": null,
   "metadata": {},
   "outputs": [],
   "source": [
    "# next, we'll do a really simple logistic regression where the IV is simply the compas decile_score\n",
    "\n",
    "logit_classify = LogisticRegression().fit(X_train,y_train)\n",
    "logit_y_pred = logit_classify.predict(X_test)\n",
    "\n",
    "# Model Evaluation metrics \n",
    "\n",
    "print('Accuracy Score : ' + str(accuracy_score(y_test,logit_y_pred)))\n",
    "print()\n",
    "print('Precision Score : ' + str(precision_score(y_test,logit_y_pred)))\n",
    "print()\n",
    "print('Recall Score : ' + str(recall_score(y_test,logit_y_pred)))\n",
    "print()\n",
    "print('F1 Score : ' + str(f1_score(y_test,logit_y_pred)))\n",
    "print()\n",
    "\n",
    "#Logistic Regression Classifier Confusion matrix & plot\n",
    "print('Confusion Matrix : \\n' + str(confusion_matrix(y_test,logit_y_pred)))\n",
    "\n",
    "titles_options = [(\"Confusion matrix, without normalization\", None),\n",
    "                  (\"Normalized confusion matrix\", 'true')]\n",
    "for title, normalize in titles_options:\n",
    "    logit_disp = plot_confusion_matrix(logit_classify, X_test, y_test,\n",
    "                                 display_labels=class_names,\n",
    "                                 cmap=plt.cm.Blues,\n",
    "                                 normalize=normalize)\n",
    "    disp.ax_.set_title(title)\n",
    "\n",
    "    print(title)\n",
    "    print(logit_disp.confusion_matrix)"
   ]
  },
  {
   "cell_type": "code",
   "execution_count": 10,
   "metadata": {},
   "outputs": [
    {
     "data": {
      "text/plain": [
       "0    0.731059\n",
       "1    0.993307\n",
       "2    0.952574\n",
       "3    0.982014\n",
       "4    0.999665\n",
       "Name: decile_score, dtype: float64"
      ]
     },
     "execution_count": 10,
     "metadata": {},
     "output_type": "execute_result"
    }
   ],
   "source": [
    "# build a logit from scratch so that we can customize its components\n",
    "z = data['decile_score']\n",
    "test = sigmoid(z)\n",
    "test.head()"
   ]
  },
  {
   "cell_type": "code",
   "execution_count": null,
   "metadata": {},
   "outputs": [],
   "source": [
    "d = model(train_set_x, train_set_y, test_set_x, test_set_y, num_iterations = 2000, learning_rate = 0.005, print_cost = True)"
   ]
  }
 ],
 "metadata": {
  "kernelspec": {
   "display_name": "Python 3",
   "language": "python",
   "name": "python3"
  },
  "language_info": {
   "codemirror_mode": {
    "name": "ipython",
    "version": 3
   },
   "file_extension": ".py",
   "mimetype": "text/x-python",
   "name": "python",
   "nbconvert_exporter": "python",
   "pygments_lexer": "ipython3",
   "version": "3.7.3"
  }
 },
 "nbformat": 4,
 "nbformat_minor": 2
}

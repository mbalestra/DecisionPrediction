{
 "cells": [
  {
   "cell_type": "code",
   "execution_count": 1,
   "metadata": {},
   "outputs": [],
   "source": [
    "import pandas as pd\n",
    "import seaborn as sns\n",
    "import matplotlib as plt"
   ]
  },
  {
   "cell_type": "code",
   "execution_count": 8,
   "metadata": {},
   "outputs": [],
   "source": [
    "data = pd.read_csv('data/people.csv')"
   ]
  },
  {
   "cell_type": "code",
   "execution_count": 9,
   "metadata": {},
   "outputs": [
    {
     "data": {
      "text/plain": [
       "Index(['index', 'id', 'name', 'first', 'last', 'sex', 'race', 'dob', 'age',\n",
       "       'age_cat', 'juv_fel_count', 'juv_misd_count', 'juv_other_count',\n",
       "       'compas_screening_date', 'decile_score', 'score_text', 'violent_recid',\n",
       "       'priors_count', 'days_b_screening_arrest', 'c_jail_in', 'c_jail_out',\n",
       "       'c_case_number', 'c_days_from_compas', 'c_arrest_date',\n",
       "       'c_offense_date', 'c_charge_degree', 'c_charge_desc', 'is_recid',\n",
       "       'num_r_cases', 'r_case_number', 'r_charge_degree', 'r_days_from_arrest',\n",
       "       'r_offense_date', 'r_charge_desc', 'r_jail_in', 'r_jail_out',\n",
       "       'is_violent_recid', 'num_vr_cases', 'vr_case_number',\n",
       "       'vr_charge_degree', 'vr_offense_date', 'vr_charge_desc'],\n",
       "      dtype='object')"
      ]
     },
     "execution_count": 9,
     "metadata": {},
     "output_type": "execute_result"
    }
   ],
   "source": [
    "data.columns"
   ]
  },
  {
   "cell_type": "code",
   "execution_count": 10,
   "metadata": {},
   "outputs": [],
   "source": [
    "##################### WARNING!!!\n",
    "# need to create a target variable for whether defendant was remanded or released on bail.\n",
    "# hopefully we will have this data in the future; for now, artificially create this data:\n",
    "# for participants where compas decile_score > 5: remand; else: release\n",
    "\n",
    "data.loc[data['decile_score']>5,'decision'] = 'remand'\n",
    "data.loc[data['decile_score']<=5,'decision'] = 'release'"
   ]
  },
  {
   "cell_type": "code",
   "execution_count": 12,
   "metadata": {},
   "outputs": [
    {
     "data": {
      "text/plain": [
       "0    release\n",
       "1    release\n",
       "2    release\n",
       "3    release\n",
       "4     remand\n",
       "Name: decision, dtype: object"
      ]
     },
     "execution_count": 12,
     "metadata": {},
     "output_type": "execute_result"
    }
   ],
   "source": [
    "data.decision.head()"
   ]
  },
  {
   "cell_type": "code",
   "execution_count": null,
   "metadata": {},
   "outputs": [],
   "source": []
  }
 ],
 "metadata": {
  "kernelspec": {
   "display_name": "Python 3",
   "language": "python",
   "name": "python3"
  },
  "language_info": {
   "codemirror_mode": {
    "name": "ipython",
    "version": 3
   },
   "file_extension": ".py",
   "mimetype": "text/x-python",
   "name": "python",
   "nbconvert_exporter": "python",
   "pygments_lexer": "ipython3",
   "version": "3.7.3"
  }
 },
 "nbformat": 4,
 "nbformat_minor": 2
}

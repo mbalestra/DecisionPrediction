{
 "cells": [
  {
   "cell_type": "code",
   "execution_count": 10,
   "metadata": {
    "scrolled": true
   },
   "outputs": [],
   "source": [
    "import pandas as pd\n",
    "import seaborn as sns\n",
    "import matplotlib.pyplot as plt\n",
    "import numpy as np\n",
    "from scipy.stats import norm\n",
    "import math\n",
    "import random\n",
    "from sklearn.model_selection import train_test_split\n",
    "from sklearn.dummy import DummyClassifier\n",
    "\n",
    "from ipynb.fs.full.GenerateData import generatedata\n",
    "from ipynb.fs.full.AnalysisPartFunctions import initialize_parameters,initialize_dicts,calc_prior_mean,calc_post_mean,calc_post_var,calc_Phi,calc_L,calc_component_derivs,calc_gradients,update_parameters"
   ]
  },
  {
   "cell_type": "code",
   "execution_count": 11,
   "metadata": {},
   "outputs": [],
   "source": [
    "random.seed(380)"
   ]
  },
  {
   "cell_type": "markdown",
   "metadata": {},
   "source": [
    "**(a) Generate data**"
   ]
  },
  {
   "cell_type": "code",
   "execution_count": 12,
   "metadata": {},
   "outputs": [],
   "source": [
    "data = generatedata()"
   ]
  },
  {
   "cell_type": "markdown",
   "metadata": {},
   "source": [
    "check how many released/remanded"
   ]
  },
  {
   "cell_type": "code",
   "execution_count": 13,
   "metadata": {},
   "outputs": [
    {
     "data": {
      "text/plain": [
       "1    6787\n",
       "0    4955\n",
       "Name: release, dtype: int64"
      ]
     },
     "execution_count": 13,
     "metadata": {},
     "output_type": "execute_result"
    }
   ],
   "source": [
    "data.release.value_counts()"
   ]
  },
  {
   "cell_type": "markdown",
   "metadata": {},
   "source": [
    "**(b) Create dummy variables for categorical variables**"
   ]
  },
  {
   "cell_type": "code",
   "execution_count": 14,
   "metadata": {},
   "outputs": [],
   "source": [
    "sex_dummies = pd.get_dummies(data['sex'])\n",
    "race_dummies = pd.get_dummies(data['race'])\n",
    "\n",
    "data['sex_1_male'] = sex_dummies['Male']\n",
    "data['African_American']=race_dummies['African-American']\n",
    "data['Asian']=race_dummies['Asian']\n",
    "data['Caucasian']=race_dummies['Caucasian']\n",
    "data['Hispanic'] = race_dummies['Hispanic']\n",
    "data['Native_American']=race_dummies['Native American']\n",
    "data['Other']=race_dummies['Other']"
   ]
  },
  {
   "cell_type": "markdown",
   "metadata": {},
   "source": [
    "**(c) Split data into training & test**"
   ]
  },
  {
   "cell_type": "code",
   "execution_count": 73,
   "metadata": {},
   "outputs": [],
   "source": [
    "# select out relevant data & generate the train and test data\n",
    "\n",
    "# train / test\n",
    "X = data[['release','decile_score','age']].drop(['release'],axis=1)#,'is_violent_recid'\n",
    "y = data['release']\n",
    "class_names = data.release.unique()\n",
    "\n",
    "X_train, X_test, y_train, y_test = train_test_split(X, y, random_state=212)\n",
    "\n",
    "risk_assess_train = X_train['decile_score']\n",
    "X_train = X_train.drop(['decile_score'],axis=1)\n",
    "\n",
    "risk_assess_test = X_test['decile_score']\n",
    "X_test = X_test.drop(['decile_score'],axis=1)"
   ]
  },
  {
   "cell_type": "code",
   "execution_count": 74,
   "metadata": {},
   "outputs": [],
   "source": [
    "parameters = initialize_parameters(X_test,1,10)\n",
    "derivatives,grads = initialize_dicts()"
   ]
  },
  {
   "cell_type": "code",
   "execution_count": 75,
   "metadata": {},
   "outputs": [
    {
     "data": {
      "text/plain": [
       "{'B': array([0.03655071]),\n",
       " 'b': array([2.45900444]),\n",
       " 'q': array([0.56460139]),\n",
       " 'var_prior': array([2.46830295]),\n",
       " 'tau': 6}"
      ]
     },
     "execution_count": 75,
     "metadata": {},
     "output_type": "execute_result"
    }
   ],
   "source": [
    "parameters"
   ]
  },
  {
   "cell_type": "markdown",
   "metadata": {},
   "source": [
    "Define variables for analysis without penalties"
   ]
  },
  {
   "cell_type": "code",
   "execution_count": 81,
   "metadata": {},
   "outputs": [],
   "source": [
    "X = X_train['age'].values\n",
    "y = y_train.values\n",
    "mu_ra = risk_assess_train.values\n",
    "theta = 5\n",
    "num_int = 10\n",
    "learning_rate = 0.0001"
   ]
  },
  {
   "cell_type": "code",
   "execution_count": null,
   "metadata": {},
   "outputs": [],
   "source": []
  },
  {
   "cell_type": "code",
   "execution_count": 19,
   "metadata": {},
   "outputs": [],
   "source": [
    "var_prior = parameters['var_prior']\n",
    "q = parameters['q']\n",
    "tau = parameters['tau']\n",
    "B = parameters['B']\n",
    "b = parameters['b']"
   ]
  },
  {
   "cell_type": "code",
   "execution_count": 85,
   "metadata": {},
   "outputs": [
    {
     "data": {
      "text/plain": [
       "array([3.18192247, 3.61832036, 3.44861007, ..., 3.23041113, 3.64256469,\n",
       "       3.78803065])"
      ]
     },
     "execution_count": 85,
     "metadata": {},
     "output_type": "execute_result"
    }
   ],
   "source": [
    "mu_prior = (B*X)+b\n",
    "mu_prior"
   ]
  },
  {
   "cell_type": "code",
   "execution_count": null,
   "metadata": {},
   "outputs": [],
   "source": []
  },
  {
   "cell_type": "code",
   "execution_count": null,
   "metadata": {},
   "outputs": [],
   "source": []
  },
  {
   "cell_type": "code",
   "execution_count": null,
   "metadata": {},
   "outputs": [],
   "source": []
  },
  {
   "cell_type": "code",
   "execution_count": null,
   "metadata": {},
   "outputs": [],
   "source": []
  },
  {
   "cell_type": "code",
   "execution_count": null,
   "metadata": {},
   "outputs": [],
   "source": [
    "loss = []\n",
    "j = 0\n",
    "\n",
    "while j < num_int:\n",
    "    \n",
    "    var_prior = parameters['var_prior']\n",
    "    q = parameters['q']\n",
    "    tau = parameters['tau']\n",
    "        \n",
    "    mu_prior = calc_prior_mean(X, parameters)\n",
    "    mu_post = calc_post_mean(mu_prior, mu_ra, q, theta)\n",
    "    var_post = calc_post_var(mu_prior, mu_ra, var_prior, q, theta)\n",
    "    Phi = calc_Phi(mu_post, var_post, tau)\n",
    "    L = calc_L(Phi, y)\n",
    "    loss.append(np.sum(L))\n",
    "        \n",
    "    derivatives = calc_component_derivs(X, parameters, derivatives, theta, mu_prior,mu_ra,mu_post,var_post,Phi,y_train)\n",
    "    grads = calc_gradients(grads,derivatives,X)\n",
    "    parameters = update_parameters(parameters, grads, learning_rate)\n",
    "       \n",
    "    if j%5==0:\n",
    "        print(np.sum(L))\n",
    "        \n",
    "    j+=1\n",
    "        \n"
   ]
  },
  {
   "cell_type": "code",
   "execution_count": null,
   "metadata": {},
   "outputs": [],
   "source": []
  },
  {
   "cell_type": "code",
   "execution_count": null,
   "metadata": {
    "scrolled": true
   },
   "outputs": [],
   "source": [
    "loss"
   ]
  },
  {
   "cell_type": "code",
   "execution_count": null,
   "metadata": {},
   "outputs": [],
   "source": [
    "plt.plot(loss)"
   ]
  },
  {
   "cell_type": "code",
   "execution_count": null,
   "metadata": {},
   "outputs": [],
   "source": [
    "mu_prior.max()"
   ]
  },
  {
   "cell_type": "code",
   "execution_count": null,
   "metadata": {},
   "outputs": [],
   "source": [
    "mu_post"
   ]
  },
  {
   "cell_type": "code",
   "execution_count": null,
   "metadata": {},
   "outputs": [],
   "source": [
    "var_post"
   ]
  },
  {
   "cell_type": "code",
   "execution_count": null,
   "metadata": {},
   "outputs": [],
   "source": [
    "q"
   ]
  },
  {
   "cell_type": "code",
   "execution_count": null,
   "metadata": {},
   "outputs": [],
   "source": [
    "tau"
   ]
  },
  {
   "cell_type": "code",
   "execution_count": null,
   "metadata": {},
   "outputs": [],
   "source": []
  },
  {
   "cell_type": "code",
   "execution_count": null,
   "metadata": {},
   "outputs": [],
   "source": []
  },
  {
   "cell_type": "code",
   "execution_count": null,
   "metadata": {},
   "outputs": [],
   "source": []
  },
  {
   "cell_type": "code",
   "execution_count": null,
   "metadata": {},
   "outputs": [],
   "source": []
  },
  {
   "cell_type": "code",
   "execution_count": null,
   "metadata": {},
   "outputs": [],
   "source": []
  },
  {
   "cell_type": "markdown",
   "metadata": {},
   "source": [
    "Define variables for analysis with penalties"
   ]
  },
  {
   "cell_type": "code",
   "execution_count": null,
   "metadata": {},
   "outputs": [],
   "source": [
    "parameters = initialize_parameters(X_test,1,10)\n",
    "derivatives,grads = initialize_dicts()\n",
    "\n",
    "X = X_train\n",
    "y = np.array(y_train)\n",
    "mu_ra = np.array(risk_assess_train)\n",
    "theta = 5\n",
    "num_int = 100\n",
    "learning_rate = 0.001\n",
    "k = 1"
   ]
  },
  {
   "cell_type": "code",
   "execution_count": null,
   "metadata": {},
   "outputs": [],
   "source": [
    "parameters"
   ]
  },
  {
   "cell_type": "code",
   "execution_count": null,
   "metadata": {},
   "outputs": [],
   "source": [
    "loss = []\n",
    "j = 0\n",
    "\n",
    "while j < num_int:\n",
    "    \n",
    "    var_prior = parameters['var_prior'][0]\n",
    "    q = parameters['q'][0]\n",
    "    tau = parameters['tau']\n",
    "        \n",
    "    mu_prior = calc_prior_mean(X, parameters)[0]\n",
    "    mu_post = calc_post_mean(mu_prior, mu_ra, q, theta)\n",
    "    var_post = calc_post_var(mu_prior, mu_ra, var_prior, q, theta)\n",
    "    Phi = calc_Phi(mu_post, var_post, tau)\n",
    "    L = calc_L(Phi, y, mu_prior, k)\n",
    "    loss.append(np.sum(L))\n",
    "        \n",
    "    if j%%5==0:\n",
    "        print(L)\n",
    "        \n",
    "    derivatives = calc_component_derivs(X, y, parameters, derivatives, theta, mu_prior, mu_ra, mu_post, var_post, Phi, k)\n",
    "    grads = calc_gradients(grads, derivatives, mu_prior, X)\n",
    "    parameters = update_parameters(parameters, grads, learning_rate)\n",
    "    \n",
    "    j+=1\n",
    "        \n"
   ]
  },
  {
   "cell_type": "code",
   "execution_count": null,
   "metadata": {},
   "outputs": [],
   "source": [
    "loss"
   ]
  },
  {
   "cell_type": "code",
   "execution_count": null,
   "metadata": {},
   "outputs": [],
   "source": [
    "loss = []\n",
    "\n",
    "var_prior = parameters['var_prior'][0]\n",
    "q = parameters['q'][0]\n",
    "tau = parameters['tau']\n",
    "\n",
    "mu_prior = calc_prior_mean(X, parameters)[0]\n",
    "mu_post = calc_post_mean(mu_prior, mu_ra, q, theta)\n",
    "var_post = calc_post_var(mu_prior, mu_ra, var_prior, q, theta)\n",
    "Phi = calc_Phi(mu_post, var_post, tau)\n",
    "L = calc_L(Phi, y, mu_prior, k)\n",
    "loss.append(np.sum(L))\n",
    "        \n",
    "derivatives = calc_component_derivs(X, y, parameters, derivatives, theta, mu_prior, mu_ra, mu_post, var_post, Phi, k)\n",
    "grads = calc_gradients(grads, derivatives, mu_prior, X)\n",
    "parameters = update_parameters(parameters, grads, learning_rate)"
   ]
  },
  {
   "cell_type": "code",
   "execution_count": null,
   "metadata": {},
   "outputs": [],
   "source": [
    "print(\"B: \",parameters['B'])\n",
    "print(\"b: \",parameters['b'])\n",
    "print(\"q: \",parameters['q'])\n",
    "print(\"var_prior: \",parameters['var_prior'])\n",
    "print(\"tau: \",parameters['tau'])\n",
    "print(\"loss: \",loss)\n",
    "print(\"mu_prior: \",np.min(mu_prior),\"to\",np.max(mu_prior))\n",
    "print(\"mu_post: \",np.min(mu_post),\"to\",np.max(mu_post))\n",
    "print(\"Phi: \", np.min(Phi),\"to\",np.max(Phi))"
   ]
  },
  {
   "cell_type": "code",
   "execution_count": null,
   "metadata": {},
   "outputs": [],
   "source": [
    "parameters"
   ]
  },
  {
   "cell_type": "code",
   "execution_count": null,
   "metadata": {},
   "outputs": [],
   "source": [
    "var_prior = parameters['var_prior'][0]\n",
    "q = parameters['q'][0]\n",
    "tau = parameters['tau']"
   ]
  },
  {
   "cell_type": "code",
   "execution_count": null,
   "metadata": {},
   "outputs": [],
   "source": [
    "mu_prior = calc_prior_mean(X, parameters)[0]\n",
    "mu_post = calc_post_mean(mu_prior, mu_ra, q, theta)\n",
    "var_post = calc_post_var(mu_prior, mu_ra, var_prior, q, theta)\n",
    "Phi = calc_Phi(mu_post, var_post, tau)\n",
    "L = calc_L(Phi, y, mu_prior, k)"
   ]
  },
  {
   "cell_type": "code",
   "execution_count": null,
   "metadata": {},
   "outputs": [],
   "source": [
    "mu_prior"
   ]
  },
  {
   "cell_type": "code",
   "execution_count": null,
   "metadata": {},
   "outputs": [],
   "source": [
    "test1 = 10*((1-mu_prior)**3)\n",
    "test2 = y_train*np.log(1-Phi)+(1-y)*np.log(Phi)\n",
    "test = test1 + test2\n",
    "test"
   ]
  },
  {
   "cell_type": "code",
   "execution_count": null,
   "metadata": {},
   "outputs": [],
   "source": [
    "loss.append(np.sum(L))\n",
    "        \n",
    "derivatives = calc_component_derivs(X, y, parameters, derivatives, theta, mu_prior, mu_ra, mu_post, var_post, Phi, k)\n",
    "grads = calc_gradients(grads, derivatives, mu_prior, X)\n",
    "parameters = update_parameters(parameters, grads, learning_rate)"
   ]
  },
  {
   "cell_type": "code",
   "execution_count": null,
   "metadata": {},
   "outputs": [],
   "source": [
    "parameters"
   ]
  },
  {
   "cell_type": "code",
   "execution_count": null,
   "metadata": {},
   "outputs": [],
   "source": [
    "derivatives"
   ]
  },
  {
   "cell_type": "code",
   "execution_count": null,
   "metadata": {},
   "outputs": [],
   "source": []
  },
  {
   "cell_type": "code",
   "execution_count": null,
   "metadata": {},
   "outputs": [],
   "source": []
  },
  {
   "cell_type": "code",
   "execution_count": null,
   "metadata": {},
   "outputs": [],
   "source": []
  },
  {
   "cell_type": "code",
   "execution_count": null,
   "metadata": {},
   "outputs": [],
   "source": []
  },
  {
   "cell_type": "code",
   "execution_count": null,
   "metadata": {},
   "outputs": [],
   "source": [
    "\"\"\"\n",
    "# Predict test/train set examples \n",
    "#y_pred_train = predict(parameters,X_train,y_train,risk_assess_train,theta=5)\n",
    "#y_pred_test = predict(parameters,X_test,y_test,risk_assess_test,theta=5)\n",
    "\n",
    "# Print train/test Errors\n",
    "# general accuracy\n",
    "print(\"train accuracy: {} %\".format(100 - np.mean(np.abs(y_pred_train - y_train)) * 100))\n",
    "print(\"test accuracy: {} %\".format(100 - np.mean(np.abs(y_pred_test - y_test)) * 100))\n",
    "\n",
    "# confusion matrix\n",
    "confmat = []\n",
    "\n",
    "for true,pred in zip(y_train,y_pred_train):\n",
    "    if(true==1 and pred==1):\n",
    "        confmat.append(\"tp\")\n",
    "    elif(true==1 and pred==0):\n",
    "        confmat.append(\"fn\")\n",
    "    elif(true==0 and pred==0):\n",
    "        confmat.append(\"tn\")\n",
    "    else:\n",
    "        confmat.append(fp)\n",
    "\n",
    "print(\"true positives: \",confmat.count('tp'))\n",
    "print(\"false positives: \",confmat.count('fp'))\n",
    "print(\"true negatives: \",confmat.count('tn'))\n",
    "print(\"false negatives: \",confmat.count('fn'))\n",
    "\n",
    "if (confmat.count('tp')+confmat.count('fn'))>0:\n",
    "    print(\"sensitivity/recall: \",confmat.count('tp')/(confmat.count('tp')+confmat.count('fn')))\n",
    "else:\n",
    "    print(\"sensitivity/recall: N/A\")\n",
    "    \n",
    "if (confmat.count('tn')+confmat.count('fp'))>0:\n",
    "    print(\"specificity: \",confmat.count('tn')/(confmat.count('tn')+confmat.count('fp')))\n",
    "else:\n",
    "    print(\"specificity: N/A\")\n",
    "    \n",
    "if (confmat.count('tp')+confmat.count('fp'))>0:\n",
    "    print(\"precision: \",confmat.count('tp')/(confmat.count('tp')+confmat.count('fp')))\n",
    "else:\n",
    "    print(\"precision: N/A\")\n",
    "    \n",
    "model_dict = {\"nLL\": L,\n",
    "              \"y_pred_test\": y_pred_test,\n",
    "              \"y_pred_train\" : y_pred_train,\n",
    "              \"parameters\" : parameters\n",
    "              \"learning_rate\" : learning_rate,\n",
    "              \"num_iterations\": num_iterations}\n",
    "\n",
    "#return model_dict\n",
    "\"\"\""
   ]
  },
  {
   "cell_type": "code",
   "execution_count": null,
   "metadata": {},
   "outputs": [],
   "source": []
  },
  {
   "cell_type": "code",
   "execution_count": null,
   "metadata": {},
   "outputs": [],
   "source": []
  },
  {
   "cell_type": "code",
   "execution_count": null,
   "metadata": {},
   "outputs": [],
   "source": []
  },
  {
   "cell_type": "code",
   "execution_count": null,
   "metadata": {},
   "outputs": [],
   "source": [
    "def training_model(X,y,parameters,mu_ra,theta,num_int,learning_rate,k):\n",
    "    \n",
    "    mu_ra = np.array(mu_ra)\n",
    "    y=np.array(y)\n",
    "    loss = []\n",
    "    j = 0\n",
    "    \n",
    "    while j < num_int:\n",
    "        \n",
    "        var_prior = parameters['var_prior'][0]\n",
    "        q = parameters['q'][0]\n",
    "        tau = parameters['tau']\n",
    "        \n",
    "        mu_prior = calc_prior_mean(X, parameters)[0]\n",
    "        mu_post = calc_post_mean(mu_prior, mu_ra, q, theta)\n",
    "        var_post = calc_post_var(mu_prior, mu_ra, var_prior, q, theta)\n",
    "        Phi = calc_Phi(mu_post, var_post, tau)\n",
    "        L = calc_L(Phi, y, mu_prior, k)\n",
    "        loss.append(np.sum(L))\n",
    "        \n",
    "        derivatives = calc_component_derivs(X, parameters, theta, mu_prior, mu_ra, mu_post, var_post, Phi, k)\n",
    "        grads = calc_gradients(derivatives, mu_prior, X)\n",
    "        parameters = update_parameters(parameters, grads, learning_rate)\n",
    "        #print(parameters)\n",
    "        j+=1\n",
    "        \n",
    "    return loss, parameters, derivatives, grads"
   ]
  },
  {
   "cell_type": "code",
   "execution_count": null,
   "metadata": {},
   "outputs": [],
   "source": [
    "def predict(parameters,X,y,risk_assess,theta):\n",
    "    \n",
    "    tau = parameters['tau']\n",
    "    q = parameters['q']\n",
    "    mu_ra = np.array(risk_assess)\n",
    "    mu_prior = calc_prior_mean(X,parameters)[0]\n",
    "    var_prior = parameters['var_prior']\n",
    "    #var_ra = calc_var_ra(var_prior,mu_prior,mu_ra,q,theta)\n",
    "    \n",
    "    mu_post = calc_post_mean(mu_prior, mu_ra, q, theta)\n",
    "    var_post = calc_post_var(mu_prior, mu_ra, var_prior, q, theta)\n",
    "    Phi = calc_Phi(mu_post,var_post,tau)\n",
    "    #L = calc_L(Phi,y)\n",
    "    \n",
    "    y_pred = [1 if Phi[i]>0.5 else 0 for i in range(len(Phi))]\n",
    "    \n",
    "    return y_pred"
   ]
  }
 ],
 "metadata": {
  "kernelspec": {
   "display_name": "Python 3",
   "language": "python",
   "name": "python3"
  },
  "language_info": {
   "codemirror_mode": {
    "name": "ipython",
    "version": 3
   },
   "file_extension": ".py",
   "mimetype": "text/x-python",
   "name": "python",
   "nbconvert_exporter": "python",
   "pygments_lexer": "ipython3",
   "version": "3.7.6"
  }
 },
 "nbformat": 4,
 "nbformat_minor": 4
}

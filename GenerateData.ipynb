{
 "cells": [
  {
   "cell_type": "code",
   "execution_count": 3,
   "metadata": {},
   "outputs": [],
   "source": [
    "import pandas as pd\n",
    "import random\n",
    "from itertools import chain\n",
    "import numpy as np"
   ]
  },
  {
   "cell_type": "code",
   "execution_count": 8,
   "metadata": {},
   "outputs": [],
   "source": [
    "def generatedata():\n",
    "    data = pd.read_csv('data/people.csv')\n",
    "    \n",
    "    ##################### WARNING!!\n",
    "    # remove records with decile_score = -1\n",
    "    # not sure yet what that is, but for now we're going to clean that data out\n",
    "    data = data[data.decile_score > 0]\n",
    "    \n",
    "    ##################### WARNING!!!\n",
    "    # need to create a target variable for whether defendant was remanded or released on bail.\n",
    "    # hopefully we will have this data in the future; for now, artificially create this data:\n",
    "    # for participants where compas decile_score > 6: remand; if decile_score < 3: release; else, randomly select remand or release\n",
    "\n",
    "    deciles = data['decile_score']\n",
    "    release = []\n",
    "\n",
    "    for x in deciles:\n",
    "        if x > 6:\n",
    "            release.append(random.choices([0,1],weights=[90,10]))\n",
    "        elif x < 4:\n",
    "            release.append(random.choices([0,1],weights=[10,90]))\n",
    "        else:\n",
    "            release.append(random.choices([0,1],weights=[50,50]))\n",
    "\n",
    "    # re-insert into data frame\n",
    "    data['release'] = list(chain.from_iterable(release))\n",
    "        \n",
    "    return data\n"
   ]
  },
  {
   "cell_type": "code",
   "execution_count": 8,
   "metadata": {},
   "outputs": [],
   "source": [
    "def generatetestdata():\n",
    "    data = pd.read_csv('data/people.csv')\n",
    "    \n",
    "    parameters = {'B': [[0.57140259],\n",
    "                        [0.42888905],\n",
    "                        [0.5780913 ],\n",
    "                        [0.20609823],\n",
    "                        [0.81332125],\n",
    "                        [0.82358887],\n",
    "                        [0.65347253],\n",
    "                        [0.16022956]],\n",
    "                  'b': 5.206693596399246,\n",
    "                  'q': 0.32777281162209315,\n",
    "                  'sd_prior': 2.4999667668640035,\n",
    "                  'tau': 6,\n",
    "                  'Theta': 1}\n",
    "    \n",
    "    return(parameters)"
   ]
  },
  {
   "cell_type": "code",
   "execution_count": 10,
   "metadata": {},
   "outputs": [
    {
     "data": {
      "text/plain": [
       "{'B': [[0.57140259],\n",
       "  [0.42888905],\n",
       "  [0.5780913],\n",
       "  [0.20609823],\n",
       "  [0.81332125],\n",
       "  [0.82358887],\n",
       "  [0.65347253],\n",
       "  [0.16022956]],\n",
       " 'b': 5.206693596399246,\n",
       " 'q': 0.32777281162209315,\n",
       " 'sd_prior': 2.4999667668640035,\n",
       " 'tau': 6,\n",
       " 'Theta': 1}"
      ]
     },
     "execution_count": 10,
     "metadata": {},
     "output_type": "execute_result"
    }
   ],
   "source": [
    "parameters = generatetestdata()\n",
    "parameters"
   ]
  },
  {
   "cell_type": "code",
   "execution_count": 9,
   "metadata": {},
   "outputs": [
    {
     "data": {
      "text/plain": [
       "1    6785\n",
       "0    4957\n",
       "Name: release, dtype: int64"
      ]
     },
     "execution_count": 9,
     "metadata": {},
     "output_type": "execute_result"
    }
   ],
   "source": [
    "# check how many released/remanded\n",
    "data = generatedata()\n",
    "data.release.value_counts()\n"
   ]
  },
  {
   "cell_type": "code",
   "execution_count": 10,
   "metadata": {},
   "outputs": [
    {
     "data": {
      "text/html": [
       "<div>\n",
       "<style scoped>\n",
       "    .dataframe tbody tr th:only-of-type {\n",
       "        vertical-align: middle;\n",
       "    }\n",
       "\n",
       "    .dataframe tbody tr th {\n",
       "        vertical-align: top;\n",
       "    }\n",
       "\n",
       "    .dataframe thead th {\n",
       "        text-align: right;\n",
       "    }\n",
       "</style>\n",
       "<table border=\"1\" class=\"dataframe\">\n",
       "  <thead>\n",
       "    <tr style=\"text-align: right;\">\n",
       "      <th>release</th>\n",
       "      <th>0</th>\n",
       "      <th>1</th>\n",
       "    </tr>\n",
       "    <tr>\n",
       "      <th>decile_score</th>\n",
       "      <th></th>\n",
       "      <th></th>\n",
       "    </tr>\n",
       "  </thead>\n",
       "  <tbody>\n",
       "    <tr>\n",
       "      <th>1</th>\n",
       "      <td>253</td>\n",
       "      <td>2324</td>\n",
       "    </tr>\n",
       "    <tr>\n",
       "      <th>2</th>\n",
       "      <td>151</td>\n",
       "      <td>1421</td>\n",
       "    </tr>\n",
       "    <tr>\n",
       "      <th>3</th>\n",
       "      <td>123</td>\n",
       "      <td>1136</td>\n",
       "    </tr>\n",
       "    <tr>\n",
       "      <th>4</th>\n",
       "      <td>610</td>\n",
       "      <td>589</td>\n",
       "    </tr>\n",
       "    <tr>\n",
       "      <th>5</th>\n",
       "      <td>510</td>\n",
       "      <td>524</td>\n",
       "    </tr>\n",
       "    <tr>\n",
       "      <th>6</th>\n",
       "      <td>503</td>\n",
       "      <td>490</td>\n",
       "    </tr>\n",
       "    <tr>\n",
       "      <th>7</th>\n",
       "      <td>812</td>\n",
       "      <td>88</td>\n",
       "    </tr>\n",
       "    <tr>\n",
       "      <th>8</th>\n",
       "      <td>715</td>\n",
       "      <td>81</td>\n",
       "    </tr>\n",
       "    <tr>\n",
       "      <th>9</th>\n",
       "      <td>725</td>\n",
       "      <td>77</td>\n",
       "    </tr>\n",
       "    <tr>\n",
       "      <th>10</th>\n",
       "      <td>555</td>\n",
       "      <td>55</td>\n",
       "    </tr>\n",
       "  </tbody>\n",
       "</table>\n",
       "</div>"
      ],
      "text/plain": [
       "release         0     1\n",
       "decile_score           \n",
       "1             253  2324\n",
       "2             151  1421\n",
       "3             123  1136\n",
       "4             610   589\n",
       "5             510   524\n",
       "6             503   490\n",
       "7             812    88\n",
       "8             715    81\n",
       "9             725    77\n",
       "10            555    55"
      ]
     },
     "execution_count": 10,
     "metadata": {},
     "output_type": "execute_result"
    }
   ],
   "source": [
    "# check how many released/remanded by decile_score\n",
    "pd.crosstab(data.decile_score, data.release)"
   ]
  },
  {
   "cell_type": "code",
   "execution_count": null,
   "metadata": {},
   "outputs": [],
   "source": []
  },
  {
   "cell_type": "code",
   "execution_count": null,
   "metadata": {},
   "outputs": [],
   "source": []
  }
 ],
 "metadata": {
  "kernelspec": {
   "display_name": "Python 3",
   "language": "python",
   "name": "python3"
  },
  "language_info": {
   "codemirror_mode": {
    "name": "ipython",
    "version": 3
   },
   "file_extension": ".py",
   "mimetype": "text/x-python",
   "name": "python",
   "nbconvert_exporter": "python",
   "pygments_lexer": "ipython3",
   "version": "3.7.6"
  }
 },
 "nbformat": 4,
 "nbformat_minor": 2
}

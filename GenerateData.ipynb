{
 "cells": [
  {
   "cell_type": "code",
   "execution_count": 1,
   "metadata": {},
   "outputs": [],
   "source": [
    "import pandas as pd\n",
    "import random\n",
    "from itertools import chain"
   ]
  },
  {
   "cell_type": "code",
   "execution_count": 2,
   "metadata": {},
   "outputs": [],
   "source": [
    "def generatedata():\n",
    "    data = pd.read_csv('data/people.csv')\n",
    "    \n",
    "    ##################### WARNING!!\n",
    "    # remove records with decile_score = -1\n",
    "    # not sure yet what that is, but for now we're going to clean that data out\n",
    "    data = data[data.decile_score > 0]\n",
    "    \n",
    "    ##################### WARNING!!!\n",
    "    # need to create a target variable for whether defendant was remanded or released on bail.\n",
    "    # hopefully we will have this data in the future; for now, artificially create this data:\n",
    "    # for participants where compas decile_score > 6: remand; if decile_score < 3: release; else, randomly select remand or release\n",
    "\n",
    "    deciles = data['decile_score']\n",
    "    release = []\n",
    "\n",
    "    for x in deciles:\n",
    "        if deciles[x] > 6:\n",
    "            release.append(random.choices([0,1],weights=[90,10]))\n",
    "        elif deciles[x] < 4:\n",
    "            release.append(random.choices([0,1],weights=[10,90]))\n",
    "        else:\n",
    "            release.append(random.choices([0,1],weights=[50,50]))\n",
    "\n",
    "    # re-insert into data frame\n",
    "    data['release'] = list(chain.from_iterable(release))\n",
    "        \n",
    "    return data"
   ]
  }
 ],
 "metadata": {
  "kernelspec": {
   "display_name": "Python 3",
   "language": "python",
   "name": "python3"
  },
  "language_info": {
   "codemirror_mode": {
    "name": "ipython",
    "version": 3
   },
   "file_extension": ".py",
   "mimetype": "text/x-python",
   "name": "python",
   "nbconvert_exporter": "python",
   "pygments_lexer": "ipython3",
   "version": "3.7.3"
  }
 },
 "nbformat": 4,
 "nbformat_minor": 2
}

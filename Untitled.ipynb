{
 "cells": [
  {
   "cell_type": "code",
   "execution_count": null,
   "metadata": {},
   "outputs": [],
   "source": [
    "# Retrieve variables\n",
    "\n",
    "#parameters from 'parameters' dict\n",
    "parameters = initialize_parameters(X_train,1,10)\n",
    "B = parameters['B']\n",
    "b = parameters['b']\n",
    "w = parameters['w']\n",
    "c = parameters['c']\n",
    "sigma_prior = parameters['sigma_prior']\n",
    "theta = parameters['theta']\n",
    "tau = parameters['tau']\n",
    "\n",
    "#values from cache\n",
    "\n",
    "mu_prior = cache['mu_prior'] = calc_prior_mean(X_train,parameters)\n",
    "mu_ra = cache['mu_ra'] \n",
    "z_alpha = cache['z_alpha'] = calc_za(cache,parameters)\n",
    "sigma_ra = cache['sigma_ra'] = calc_sigma_ra(cache,parameters,z=2)\n",
    "mu_post = cache['mu_post'] = calc_post_mean(cache,parameters)\n",
    "sigma_post = cache['sigma_post'] = calc_post_sd(cache,parameters)\n",
    "L = cache['nLL'] = calc_L(calc_Phi(cache,parameters),y_train)\n",
    "\n",
    "# store gradients\n",
    "grads = {\n",
    "    \"dB\": [],\n",
    "    \"db\": [],\n",
    "    \"dw\": [],\n",
    "    \"dc\": [],\n",
    "    \"dsigma_prior\": [],\n",
    "    \"dtau\" : []\n",
    "}"
   ]
  }
 ],
 "metadata": {
  "kernelspec": {
   "display_name": "Python 3",
   "language": "python",
   "name": "python3"
  },
  "language_info": {
   "codemirror_mode": {
    "name": "ipython",
    "version": 3
   },
   "file_extension": ".py",
   "mimetype": "text/x-python",
   "name": "python",
   "nbconvert_exporter": "python",
   "pygments_lexer": "ipython3",
   "version": "3.7.3"
  }
 },
 "nbformat": 4,
 "nbformat_minor": 2
}
